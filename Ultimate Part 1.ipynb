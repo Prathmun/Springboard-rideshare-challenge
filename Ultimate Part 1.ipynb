{
 "cells": [
  {
   "cell_type": "markdown",
   "id": "expected-fight",
   "metadata": {},
   "source": [
    "# Set Up"
   ]
  },
  {
   "cell_type": "code",
   "execution_count": 1,
   "id": "aware-detroit",
   "metadata": {},
   "outputs": [],
   "source": [
    "import pandas as pd\n",
    "from time import time\n",
    "import datetime"
   ]
  },
  {
   "cell_type": "code",
   "execution_count": 2,
   "id": "legitimate-boundary",
   "metadata": {},
   "outputs": [],
   "source": [
    "import matplotlib.pyplot as plt\n",
    "import seaborn as sns"
   ]
  },
  {
   "cell_type": "code",
   "execution_count": 3,
   "id": "processed-africa",
   "metadata": {},
   "outputs": [],
   "source": [
    "df = pd.read_json('ultimate_data_challenge.json')"
   ]
  },
  {
   "cell_type": "markdown",
   "id": "rolled-chorus",
   "metadata": {},
   "source": [
    "# Initial Data Exploration"
   ]
  },
  {
   "cell_type": "code",
   "execution_count": 9,
   "id": "buried-wiring",
   "metadata": {},
   "outputs": [],
   "source": [
    "logins = pd.read_json('logins.json')"
   ]
  },
  {
   "cell_type": "code",
   "execution_count": 10,
   "id": "mediterranean-pillow",
   "metadata": {},
   "outputs": [
    {
     "data": {
      "text/plain": [
       "(93142, 1)"
      ]
     },
     "execution_count": 10,
     "metadata": {},
     "output_type": "execute_result"
    }
   ],
   "source": [
    "logins.shape"
   ]
  },
  {
   "cell_type": "code",
   "execution_count": 11,
   "id": "specified-speed",
   "metadata": {},
   "outputs": [
    {
     "data": {
      "text/html": [
       "<div>\n",
       "<style scoped>\n",
       "    .dataframe tbody tr th:only-of-type {\n",
       "        vertical-align: middle;\n",
       "    }\n",
       "\n",
       "    .dataframe tbody tr th {\n",
       "        vertical-align: top;\n",
       "    }\n",
       "\n",
       "    .dataframe thead th {\n",
       "        text-align: right;\n",
       "    }\n",
       "</style>\n",
       "<table border=\"1\" class=\"dataframe\">\n",
       "  <thead>\n",
       "    <tr style=\"text-align: right;\">\n",
       "      <th></th>\n",
       "      <th>login_time</th>\n",
       "    </tr>\n",
       "  </thead>\n",
       "  <tbody>\n",
       "    <tr>\n",
       "      <th>0</th>\n",
       "      <td>1970-01-01 20:13:18</td>\n",
       "    </tr>\n",
       "    <tr>\n",
       "      <th>1</th>\n",
       "      <td>1970-01-01 20:16:10</td>\n",
       "    </tr>\n",
       "    <tr>\n",
       "      <th>2</th>\n",
       "      <td>1970-01-01 20:16:37</td>\n",
       "    </tr>\n",
       "    <tr>\n",
       "      <th>3</th>\n",
       "      <td>1970-01-01 20:16:36</td>\n",
       "    </tr>\n",
       "    <tr>\n",
       "      <th>4</th>\n",
       "      <td>1970-01-01 20:26:21</td>\n",
       "    </tr>\n",
       "  </tbody>\n",
       "</table>\n",
       "</div>"
      ],
      "text/plain": [
       "           login_time\n",
       "0 1970-01-01 20:13:18\n",
       "1 1970-01-01 20:16:10\n",
       "2 1970-01-01 20:16:37\n",
       "3 1970-01-01 20:16:36\n",
       "4 1970-01-01 20:26:21"
      ]
     },
     "execution_count": 11,
     "metadata": {},
     "output_type": "execute_result"
    }
   ],
   "source": [
    "logins.head(5)"
   ]
  },
  {
   "cell_type": "code",
   "execution_count": 12,
   "id": "important-teaching",
   "metadata": {
    "scrolled": true
   },
   "outputs": [
    {
     "name": "stdout",
     "output_type": "stream",
     "text": [
      "<class 'pandas.core.frame.DataFrame'>\n",
      "RangeIndex: 93142 entries, 0 to 93141\n",
      "Data columns (total 1 columns):\n",
      " #   Column      Non-Null Count  Dtype         \n",
      "---  ------      --------------  -----         \n",
      " 0   login_time  93142 non-null  datetime64[ns]\n",
      "dtypes: datetime64[ns](1)\n",
      "memory usage: 727.8 KB\n"
     ]
    }
   ],
   "source": [
    "logins.info()"
   ]
  },
  {
   "cell_type": "markdown",
   "id": "three-enemy",
   "metadata": {},
   "source": [
    "## Aggregating the log ins to 15 minute bins"
   ]
  },
  {
   "cell_type": "markdown",
   "id": "incident-cholesterol",
   "metadata": {},
   "source": [
    "Set the login time to the index so we can resample. "
   ]
  },
  {
   "cell_type": "code",
   "execution_count": 13,
   "id": "wound-lawsuit",
   "metadata": {},
   "outputs": [],
   "source": [
    "logins.set_index('login_time', inplace=True)"
   ]
  },
  {
   "cell_type": "markdown",
   "id": "naked-corporation",
   "metadata": {},
   "source": [
    "adding a column to count"
   ]
  },
  {
   "cell_type": "code",
   "execution_count": 14,
   "id": "chinese-stability",
   "metadata": {},
   "outputs": [],
   "source": [
    "logins['login_count'] = 1"
   ]
  },
  {
   "cell_type": "markdown",
   "id": "departmental-basin",
   "metadata": {},
   "source": [
    "https://pandas.pydata.org/docs/reference/api/pandas.DataFrame.resample.html\n",
    "Downsample the series into 15 minute bins and sum the values of the timestamps falling into a bin."
   ]
  },
  {
   "cell_type": "code",
   "execution_count": 15,
   "id": "neural-algeria",
   "metadata": {},
   "outputs": [],
   "source": [
    "logins_15mins_df = logins.resample('15T').sum()\n"
   ]
  },
  {
   "cell_type": "code",
   "execution_count": 16,
   "id": "contained-caribbean",
   "metadata": {},
   "outputs": [
    {
     "data": {
      "text/html": [
       "<div>\n",
       "<style scoped>\n",
       "    .dataframe tbody tr th:only-of-type {\n",
       "        vertical-align: middle;\n",
       "    }\n",
       "\n",
       "    .dataframe tbody tr th {\n",
       "        vertical-align: top;\n",
       "    }\n",
       "\n",
       "    .dataframe thead th {\n",
       "        text-align: right;\n",
       "    }\n",
       "</style>\n",
       "<table border=\"1\" class=\"dataframe\">\n",
       "  <thead>\n",
       "    <tr style=\"text-align: right;\">\n",
       "      <th></th>\n",
       "      <th>login_count</th>\n",
       "    </tr>\n",
       "    <tr>\n",
       "      <th>login_time</th>\n",
       "      <th></th>\n",
       "    </tr>\n",
       "  </thead>\n",
       "  <tbody>\n",
       "    <tr>\n",
       "      <th>1970-01-01 20:00:00</th>\n",
       "      <td>2</td>\n",
       "    </tr>\n",
       "    <tr>\n",
       "      <th>1970-01-01 20:15:00</th>\n",
       "      <td>6</td>\n",
       "    </tr>\n",
       "    <tr>\n",
       "      <th>1970-01-01 20:30:00</th>\n",
       "      <td>9</td>\n",
       "    </tr>\n",
       "    <tr>\n",
       "      <th>1970-01-01 20:45:00</th>\n",
       "      <td>7</td>\n",
       "    </tr>\n",
       "    <tr>\n",
       "      <th>1970-01-01 21:00:00</th>\n",
       "      <td>1</td>\n",
       "    </tr>\n",
       "    <tr>\n",
       "      <th>...</th>\n",
       "      <td>...</td>\n",
       "    </tr>\n",
       "    <tr>\n",
       "      <th>1970-04-13 17:45:00</th>\n",
       "      <td>5</td>\n",
       "    </tr>\n",
       "    <tr>\n",
       "      <th>1970-04-13 18:00:00</th>\n",
       "      <td>5</td>\n",
       "    </tr>\n",
       "    <tr>\n",
       "      <th>1970-04-13 18:15:00</th>\n",
       "      <td>2</td>\n",
       "    </tr>\n",
       "    <tr>\n",
       "      <th>1970-04-13 18:30:00</th>\n",
       "      <td>7</td>\n",
       "    </tr>\n",
       "    <tr>\n",
       "      <th>1970-04-13 18:45:00</th>\n",
       "      <td>6</td>\n",
       "    </tr>\n",
       "  </tbody>\n",
       "</table>\n",
       "<p>9788 rows × 1 columns</p>\n",
       "</div>"
      ],
      "text/plain": [
       "                     login_count\n",
       "login_time                      \n",
       "1970-01-01 20:00:00            2\n",
       "1970-01-01 20:15:00            6\n",
       "1970-01-01 20:30:00            9\n",
       "1970-01-01 20:45:00            7\n",
       "1970-01-01 21:00:00            1\n",
       "...                          ...\n",
       "1970-04-13 17:45:00            5\n",
       "1970-04-13 18:00:00            5\n",
       "1970-04-13 18:15:00            2\n",
       "1970-04-13 18:30:00            7\n",
       "1970-04-13 18:45:00            6\n",
       "\n",
       "[9788 rows x 1 columns]"
      ]
     },
     "execution_count": 16,
     "metadata": {},
     "output_type": "execute_result"
    }
   ],
   "source": [
    "logins_15mins_df"
   ]
  },
  {
   "cell_type": "code",
   "execution_count": 17,
   "id": "swedish-surveillance",
   "metadata": {},
   "outputs": [
    {
     "data": {
      "text/plain": [
       "login_count\n",
       "0              407\n",
       "1              638\n",
       "2              726\n",
       "3              703\n",
       "4              706\n",
       "              ... \n",
       "60               2\n",
       "63               1\n",
       "64               1\n",
       "66               1\n",
       "73               1\n",
       "Length: 62, dtype: int64"
      ]
     },
     "execution_count": 17,
     "metadata": {},
     "output_type": "execute_result"
    }
   ],
   "source": [
    "logins_15mins_df.value_counts(sort=False)"
   ]
  },
  {
   "cell_type": "code",
   "execution_count": 18,
   "id": "million-assembly",
   "metadata": {},
   "outputs": [],
   "source": [
    "initial_timestamp = logins_15mins_df.index[0]"
   ]
  },
  {
   "cell_type": "code",
   "execution_count": 19,
   "id": "actual-battlefield",
   "metadata": {},
   "outputs": [],
   "source": [
    "day_delta = datetime.timedelta(days=1)\n",
    "\n"
   ]
  },
  {
   "cell_type": "code",
   "execution_count": 20,
   "id": "criminal-series",
   "metadata": {
    "scrolled": true
   },
   "outputs": [],
   "source": [
    "initial_timestamp = initial_timestamp + datetime.timedelta(hours=4)"
   ]
  },
  {
   "cell_type": "markdown",
   "id": "congressional-committee",
   "metadata": {},
   "source": [
    "### giving the 15 minute bins hour/day/month labels"
   ]
  },
  {
   "cell_type": "code",
   "execution_count": 21,
   "id": "optional-sigma",
   "metadata": {},
   "outputs": [],
   "source": [
    "logins_15mins_df.index.name = 'time_window'\n",
    "logins_15mins_df.reset_index(inplace=True)"
   ]
  },
  {
   "cell_type": "code",
   "execution_count": 22,
   "id": "prescribed-chest",
   "metadata": {},
   "outputs": [],
   "source": [
    "logins_15mins_df['day'] = logins_15mins_df.time_window.dt.day_name()\n",
    "logins_15mins_df['hour'] = logins_15mins_df.time_window.dt.hour\n",
    "logins_15mins_df['month'] = logins_15mins_df.time_window.dt.month"
   ]
  },
  {
   "cell_type": "markdown",
   "id": "european-kentucky",
   "metadata": {},
   "source": [
    "# Build out day of the week counts"
   ]
  },
  {
   "cell_type": "code",
   "execution_count": 23,
   "id": "infinite-ordinance",
   "metadata": {},
   "outputs": [
    {
     "data": {
      "text/html": [
       "<div>\n",
       "<style scoped>\n",
       "    .dataframe tbody tr th:only-of-type {\n",
       "        vertical-align: middle;\n",
       "    }\n",
       "\n",
       "    .dataframe tbody tr th {\n",
       "        vertical-align: top;\n",
       "    }\n",
       "\n",
       "    .dataframe thead th {\n",
       "        text-align: right;\n",
       "    }\n",
       "</style>\n",
       "<table border=\"1\" class=\"dataframe\">\n",
       "  <thead>\n",
       "    <tr style=\"text-align: right;\">\n",
       "      <th></th>\n",
       "      <th>login_count</th>\n",
       "      <th>month</th>\n",
       "    </tr>\n",
       "    <tr>\n",
       "      <th>day</th>\n",
       "      <th></th>\n",
       "      <th></th>\n",
       "    </tr>\n",
       "  </thead>\n",
       "  <tbody>\n",
       "    <tr>\n",
       "      <th>Saturday</th>\n",
       "      <td>19377</td>\n",
       "      <td>3168</td>\n",
       "    </tr>\n",
       "    <tr>\n",
       "      <th>Sunday</th>\n",
       "      <td>18167</td>\n",
       "      <td>3360</td>\n",
       "    </tr>\n",
       "    <tr>\n",
       "      <th>Friday</th>\n",
       "      <td>15208</td>\n",
       "      <td>3168</td>\n",
       "    </tr>\n",
       "    <tr>\n",
       "      <th>Thursday</th>\n",
       "      <td>11960</td>\n",
       "      <td>3088</td>\n",
       "    </tr>\n",
       "    <tr>\n",
       "      <th>Wednesday</th>\n",
       "      <td>10339</td>\n",
       "      <td>3072</td>\n",
       "    </tr>\n",
       "    <tr>\n",
       "      <th>Tuesday</th>\n",
       "      <td>9268</td>\n",
       "      <td>2976</td>\n",
       "    </tr>\n",
       "    <tr>\n",
       "      <th>Monday</th>\n",
       "      <td>8823</td>\n",
       "      <td>3280</td>\n",
       "    </tr>\n",
       "  </tbody>\n",
       "</table>\n",
       "</div>"
      ],
      "text/plain": [
       "           login_count  month\n",
       "day                          \n",
       "Saturday         19377   3168\n",
       "Sunday           18167   3360\n",
       "Friday           15208   3168\n",
       "Thursday         11960   3088\n",
       "Wednesday        10339   3072\n",
       "Tuesday           9268   2976\n",
       "Monday            8823   3280"
      ]
     },
     "execution_count": 23,
     "metadata": {},
     "output_type": "execute_result"
    }
   ],
   "source": [
    "# aggregate by day of week \n",
    "day_counts = logins_15mins_df.groupby('day').sum()\n",
    "\n",
    "# drop 'hour' column\n",
    "day_counts.drop('hour', axis=1, inplace=True)\n",
    "\n",
    "#sort values from greatest to least\n",
    "day_counts.sort_values('login_count', ascending=False)"
   ]
  },
  {
   "cell_type": "markdown",
   "id": "cardiac-priest",
   "metadata": {},
   "source": [
    "### Hour time series"
   ]
  },
  {
   "cell_type": "code",
   "execution_count": 24,
   "id": "contrary-proxy",
   "metadata": {},
   "outputs": [
    {
     "data": {
      "text/html": [
       "<div>\n",
       "<style scoped>\n",
       "    .dataframe tbody tr th:only-of-type {\n",
       "        vertical-align: middle;\n",
       "    }\n",
       "\n",
       "    .dataframe tbody tr th {\n",
       "        vertical-align: top;\n",
       "    }\n",
       "\n",
       "    .dataframe thead th {\n",
       "        text-align: right;\n",
       "    }\n",
       "</style>\n",
       "<table border=\"1\" class=\"dataframe\">\n",
       "  <thead>\n",
       "    <tr style=\"text-align: right;\">\n",
       "      <th></th>\n",
       "      <th>login_count</th>\n",
       "      <th>month</th>\n",
       "    </tr>\n",
       "    <tr>\n",
       "      <th>hour</th>\n",
       "      <th></th>\n",
       "      <th></th>\n",
       "    </tr>\n",
       "  </thead>\n",
       "  <tbody>\n",
       "    <tr>\n",
       "      <th>22</th>\n",
       "      <td>6607</td>\n",
       "      <td>912</td>\n",
       "    </tr>\n",
       "    <tr>\n",
       "      <th>1</th>\n",
       "      <td>6317</td>\n",
       "      <td>924</td>\n",
       "    </tr>\n",
       "    <tr>\n",
       "      <th>23</th>\n",
       "      <td>6058</td>\n",
       "      <td>912</td>\n",
       "    </tr>\n",
       "    <tr>\n",
       "      <th>0</th>\n",
       "      <td>5993</td>\n",
       "      <td>924</td>\n",
       "    </tr>\n",
       "    <tr>\n",
       "      <th>2</th>\n",
       "      <td>5800</td>\n",
       "      <td>924</td>\n",
       "    </tr>\n",
       "    <tr>\n",
       "      <th>11</th>\n",
       "      <td>5799</td>\n",
       "      <td>924</td>\n",
       "    </tr>\n",
       "    <tr>\n",
       "      <th>21</th>\n",
       "      <td>5623</td>\n",
       "      <td>912</td>\n",
       "    </tr>\n",
       "    <tr>\n",
       "      <th>4</th>\n",
       "      <td>5034</td>\n",
       "      <td>924</td>\n",
       "    </tr>\n",
       "    <tr>\n",
       "      <th>12</th>\n",
       "      <td>4964</td>\n",
       "      <td>924</td>\n",
       "    </tr>\n",
       "    <tr>\n",
       "      <th>3</th>\n",
       "      <td>4831</td>\n",
       "      <td>924</td>\n",
       "    </tr>\n",
       "    <tr>\n",
       "      <th>20</th>\n",
       "      <td>4103</td>\n",
       "      <td>912</td>\n",
       "    </tr>\n",
       "    <tr>\n",
       "      <th>13</th>\n",
       "      <td>3611</td>\n",
       "      <td>924</td>\n",
       "    </tr>\n",
       "    <tr>\n",
       "      <th>14</th>\n",
       "      <td>3426</td>\n",
       "      <td>924</td>\n",
       "    </tr>\n",
       "    <tr>\n",
       "      <th>19</th>\n",
       "      <td>3235</td>\n",
       "      <td>908</td>\n",
       "    </tr>\n",
       "    <tr>\n",
       "      <th>10</th>\n",
       "      <td>3064</td>\n",
       "      <td>924</td>\n",
       "    </tr>\n",
       "    <tr>\n",
       "      <th>15</th>\n",
       "      <td>3038</td>\n",
       "      <td>924</td>\n",
       "    </tr>\n",
       "    <tr>\n",
       "      <th>18</th>\n",
       "      <td>2980</td>\n",
       "      <td>924</td>\n",
       "    </tr>\n",
       "    <tr>\n",
       "      <th>5</th>\n",
       "      <td>2945</td>\n",
       "      <td>924</td>\n",
       "    </tr>\n",
       "    <tr>\n",
       "      <th>16</th>\n",
       "      <td>2832</td>\n",
       "      <td>924</td>\n",
       "    </tr>\n",
       "    <tr>\n",
       "      <th>17</th>\n",
       "      <td>2584</td>\n",
       "      <td>924</td>\n",
       "    </tr>\n",
       "    <tr>\n",
       "      <th>9</th>\n",
       "      <td>1527</td>\n",
       "      <td>924</td>\n",
       "    </tr>\n",
       "    <tr>\n",
       "      <th>6</th>\n",
       "      <td>1138</td>\n",
       "      <td>924</td>\n",
       "    </tr>\n",
       "    <tr>\n",
       "      <th>8</th>\n",
       "      <td>818</td>\n",
       "      <td>924</td>\n",
       "    </tr>\n",
       "    <tr>\n",
       "      <th>7</th>\n",
       "      <td>815</td>\n",
       "      <td>924</td>\n",
       "    </tr>\n",
       "  </tbody>\n",
       "</table>\n",
       "</div>"
      ],
      "text/plain": [
       "      login_count  month\n",
       "hour                    \n",
       "22           6607    912\n",
       "1            6317    924\n",
       "23           6058    912\n",
       "0            5993    924\n",
       "2            5800    924\n",
       "11           5799    924\n",
       "21           5623    912\n",
       "4            5034    924\n",
       "12           4964    924\n",
       "3            4831    924\n",
       "20           4103    912\n",
       "13           3611    924\n",
       "14           3426    924\n",
       "19           3235    908\n",
       "10           3064    924\n",
       "15           3038    924\n",
       "18           2980    924\n",
       "5            2945    924\n",
       "16           2832    924\n",
       "17           2584    924\n",
       "9            1527    924\n",
       "6            1138    924\n",
       "8             818    924\n",
       "7             815    924"
      ]
     },
     "execution_count": 24,
     "metadata": {},
     "output_type": "execute_result"
    }
   ],
   "source": [
    "# aggregate by hour of day\n",
    "hour_counts = logins_15mins_df.groupby('hour').sum()\n",
    "\n",
    "# sort values from greatest to least\n",
    "hour_counts.sort_values('login_count', ascending=False)"
   ]
  },
  {
   "cell_type": "markdown",
   "id": "accurate-receptor",
   "metadata": {},
   "source": [
    "# Explore resultant time series"
   ]
  },
  {
   "cell_type": "markdown",
   "id": "talented-dispute",
   "metadata": {},
   "source": [
    "## Log ins per hours across all data"
   ]
  },
  {
   "cell_type": "code",
   "execution_count": 25,
   "id": "realistic-engagement",
   "metadata": {
    "scrolled": true
   },
   "outputs": [
    {
     "data": {
      "text/html": [
       "<div>\n",
       "<style scoped>\n",
       "    .dataframe tbody tr th:only-of-type {\n",
       "        vertical-align: middle;\n",
       "    }\n",
       "\n",
       "    .dataframe tbody tr th {\n",
       "        vertical-align: top;\n",
       "    }\n",
       "\n",
       "    .dataframe thead th {\n",
       "        text-align: right;\n",
       "    }\n",
       "</style>\n",
       "<table border=\"1\" class=\"dataframe\">\n",
       "  <thead>\n",
       "    <tr style=\"text-align: right;\">\n",
       "      <th></th>\n",
       "      <th>login_count</th>\n",
       "    </tr>\n",
       "    <tr>\n",
       "      <th>hour</th>\n",
       "      <th></th>\n",
       "    </tr>\n",
       "  </thead>\n",
       "  <tbody>\n",
       "    <tr>\n",
       "      <th>22</th>\n",
       "      <td>6607</td>\n",
       "    </tr>\n",
       "    <tr>\n",
       "      <th>1</th>\n",
       "      <td>6317</td>\n",
       "    </tr>\n",
       "    <tr>\n",
       "      <th>23</th>\n",
       "      <td>6058</td>\n",
       "    </tr>\n",
       "    <tr>\n",
       "      <th>0</th>\n",
       "      <td>5993</td>\n",
       "    </tr>\n",
       "    <tr>\n",
       "      <th>2</th>\n",
       "      <td>5800</td>\n",
       "    </tr>\n",
       "    <tr>\n",
       "      <th>11</th>\n",
       "      <td>5799</td>\n",
       "    </tr>\n",
       "    <tr>\n",
       "      <th>21</th>\n",
       "      <td>5623</td>\n",
       "    </tr>\n",
       "    <tr>\n",
       "      <th>4</th>\n",
       "      <td>5034</td>\n",
       "    </tr>\n",
       "    <tr>\n",
       "      <th>12</th>\n",
       "      <td>4964</td>\n",
       "    </tr>\n",
       "    <tr>\n",
       "      <th>3</th>\n",
       "      <td>4831</td>\n",
       "    </tr>\n",
       "    <tr>\n",
       "      <th>20</th>\n",
       "      <td>4103</td>\n",
       "    </tr>\n",
       "    <tr>\n",
       "      <th>13</th>\n",
       "      <td>3611</td>\n",
       "    </tr>\n",
       "    <tr>\n",
       "      <th>14</th>\n",
       "      <td>3426</td>\n",
       "    </tr>\n",
       "    <tr>\n",
       "      <th>19</th>\n",
       "      <td>3235</td>\n",
       "    </tr>\n",
       "    <tr>\n",
       "      <th>10</th>\n",
       "      <td>3064</td>\n",
       "    </tr>\n",
       "    <tr>\n",
       "      <th>15</th>\n",
       "      <td>3038</td>\n",
       "    </tr>\n",
       "    <tr>\n",
       "      <th>18</th>\n",
       "      <td>2980</td>\n",
       "    </tr>\n",
       "    <tr>\n",
       "      <th>5</th>\n",
       "      <td>2945</td>\n",
       "    </tr>\n",
       "    <tr>\n",
       "      <th>16</th>\n",
       "      <td>2832</td>\n",
       "    </tr>\n",
       "    <tr>\n",
       "      <th>17</th>\n",
       "      <td>2584</td>\n",
       "    </tr>\n",
       "    <tr>\n",
       "      <th>9</th>\n",
       "      <td>1527</td>\n",
       "    </tr>\n",
       "    <tr>\n",
       "      <th>6</th>\n",
       "      <td>1138</td>\n",
       "    </tr>\n",
       "    <tr>\n",
       "      <th>8</th>\n",
       "      <td>818</td>\n",
       "    </tr>\n",
       "    <tr>\n",
       "      <th>7</th>\n",
       "      <td>815</td>\n",
       "    </tr>\n",
       "  </tbody>\n",
       "</table>\n",
       "</div>"
      ],
      "text/plain": [
       "      login_count\n",
       "hour             \n",
       "22           6607\n",
       "1            6317\n",
       "23           6058\n",
       "0            5993\n",
       "2            5800\n",
       "11           5799\n",
       "21           5623\n",
       "4            5034\n",
       "12           4964\n",
       "3            4831\n",
       "20           4103\n",
       "13           3611\n",
       "14           3426\n",
       "19           3235\n",
       "10           3064\n",
       "15           3038\n",
       "18           2980\n",
       "5            2945\n",
       "16           2832\n",
       "17           2584\n",
       "9            1527\n",
       "6            1138\n",
       "8             818\n",
       "7             815"
      ]
     },
     "execution_count": 25,
     "metadata": {},
     "output_type": "execute_result"
    }
   ],
   "source": [
    "# aggregate by hour of day\n",
    "hour_counts = logins_15mins_df.groupby('hour').sum().drop(columns='month')\n",
    "\n",
    "# sort values from greatest to least\n",
    "hour_counts.sort_values('login_count', ascending=False)"
   ]
  },
  {
   "cell_type": "markdown",
   "id": "particular-kentucky",
   "metadata": {},
   "source": [
    "The heaviest usage hours are all aggregated in the evening. Suggesting that folks use ultimate more for recreation than for commuting. Particularly since typical commute hours like 7,8,9 and 16,17,18 are all near the bottom of the list."
   ]
  },
  {
   "cell_type": "markdown",
   "id": "aerial-scheduling",
   "metadata": {},
   "source": [
    "## log ins per day"
   ]
  },
  {
   "cell_type": "code",
   "execution_count": 26,
   "id": "still-vitamin",
   "metadata": {
    "scrolled": true
   },
   "outputs": [
    {
     "data": {
      "text/html": [
       "<div>\n",
       "<style scoped>\n",
       "    .dataframe tbody tr th:only-of-type {\n",
       "        vertical-align: middle;\n",
       "    }\n",
       "\n",
       "    .dataframe tbody tr th {\n",
       "        vertical-align: top;\n",
       "    }\n",
       "\n",
       "    .dataframe thead th {\n",
       "        text-align: right;\n",
       "    }\n",
       "</style>\n",
       "<table border=\"1\" class=\"dataframe\">\n",
       "  <thead>\n",
       "    <tr style=\"text-align: right;\">\n",
       "      <th></th>\n",
       "      <th>login_count</th>\n",
       "      <th>month</th>\n",
       "    </tr>\n",
       "    <tr>\n",
       "      <th>day</th>\n",
       "      <th></th>\n",
       "      <th></th>\n",
       "    </tr>\n",
       "  </thead>\n",
       "  <tbody>\n",
       "    <tr>\n",
       "      <th>Saturday</th>\n",
       "      <td>19377</td>\n",
       "      <td>3168</td>\n",
       "    </tr>\n",
       "    <tr>\n",
       "      <th>Sunday</th>\n",
       "      <td>18167</td>\n",
       "      <td>3360</td>\n",
       "    </tr>\n",
       "    <tr>\n",
       "      <th>Friday</th>\n",
       "      <td>15208</td>\n",
       "      <td>3168</td>\n",
       "    </tr>\n",
       "    <tr>\n",
       "      <th>Thursday</th>\n",
       "      <td>11960</td>\n",
       "      <td>3088</td>\n",
       "    </tr>\n",
       "    <tr>\n",
       "      <th>Wednesday</th>\n",
       "      <td>10339</td>\n",
       "      <td>3072</td>\n",
       "    </tr>\n",
       "    <tr>\n",
       "      <th>Tuesday</th>\n",
       "      <td>9268</td>\n",
       "      <td>2976</td>\n",
       "    </tr>\n",
       "    <tr>\n",
       "      <th>Monday</th>\n",
       "      <td>8823</td>\n",
       "      <td>3280</td>\n",
       "    </tr>\n",
       "  </tbody>\n",
       "</table>\n",
       "</div>"
      ],
      "text/plain": [
       "           login_count  month\n",
       "day                          \n",
       "Saturday         19377   3168\n",
       "Sunday           18167   3360\n",
       "Friday           15208   3168\n",
       "Thursday         11960   3088\n",
       "Wednesday        10339   3072\n",
       "Tuesday           9268   2976\n",
       "Monday            8823   3280"
      ]
     },
     "execution_count": 26,
     "metadata": {},
     "output_type": "execute_result"
    }
   ],
   "source": [
    "# aggregate by day of week \n",
    "day_counts = logins_15mins_df.groupby('day').sum()\n",
    "\n",
    "# drop 'hour' column\n",
    "day_counts.drop('hour', axis=1, inplace=True)\n",
    "\n",
    "#sort values from greatest to least\n",
    "day_counts.sort_values('login_count', ascending=False)"
   ]
  },
  {
   "cell_type": "markdown",
   "id": "existing-apple",
   "metadata": {},
   "source": [
    "Weekends are our heaviest use, then it drops heavily for monday and slowly climbs again as we approach the weekend again"
   ]
  },
  {
   "cell_type": "markdown",
   "id": "subtle-chassis",
   "metadata": {},
   "source": [
    "## log ins per day by hour"
   ]
  },
  {
   "cell_type": "code",
   "execution_count": 27,
   "id": "academic-possibility",
   "metadata": {
    "scrolled": false
   },
   "outputs": [
    {
     "data": {
      "image/png": "[encoded data removed]",
      "text/plain": [
       "<Figure size 1440x720 with 1 Axes>"
      ]
     },
     "metadata": {
      "needs_background": "light"
     },
     "output_type": "display_data"
    }
   ],
   "source": [
    "# plot login count by hour of day for each day of the week \n",
    "\n",
    "hour_day_df = logins_15mins_df.groupby(['hour', 'day']).sum().reset_index()\n",
    "\n",
    "fig, ax = plt.subplots(figsize=(20,10))\n",
    "ax = sns.barplot(x='hour', y='login_count', data=hour_day_df, hue='day')\n",
    "ax.legend(title='Day of week' ,loc='upper right')\n",
    "ax.set(xlabel= 'Hour of day', ylabel= 'Total login count', title=\"Total logins per day by hour\")\n",
    "\n",
    "plt.show()"
   ]
  },
  {
   "cell_type": "markdown",
   "id": "pacific-cassette",
   "metadata": {},
   "source": [
    "Looks like the trends we saw reflected in the total hourly data are reflected in the hourly data broken out by weekday, but the effects appear more extreme as we get closer to the weekend. There's more activity later at night on weekends"
   ]
  },
  {
   "cell_type": "markdown",
   "id": "plastic-maryland",
   "metadata": {},
   "source": [
    "## log ins per day, by month"
   ]
  },
  {
   "cell_type": "code",
   "execution_count": 28,
   "id": "august-visitor",
   "metadata": {},
   "outputs": [
    {
     "data": {
      "image/png": "[encoded data removed]",
      "text/plain": [
       "<Figure size 1440x720 with 1 Axes>"
      ]
     },
     "metadata": {
      "needs_background": "light"
     },
     "output_type": "display_data"
    }
   ],
   "source": [
    "# plot login count by hour of day for each day of the week \n",
    "\n",
    "month_day_df = logins_15mins_df.groupby(['month', 'day']).sum().reset_index()\n",
    "\n",
    "fig, ax = plt.subplots(figsize=(20,10))\n",
    "ax = sns.barplot(x='day', y='login_count', data=month_day_df, hue='month')\n",
    "ax.legend(title='Month' ,loc='upper right')\n",
    "ax.set(xlabel= 'Day of the week', ylabel= 'Total login count', title=\"Total logins per day by hour\")\n",
    "\n",
    "plt.show()"
   ]
  },
  {
   "cell_type": "markdown",
   "id": "wrapped-bikini",
   "metadata": {},
   "source": [
    "Here we see that the trends were consistent across months, just that march was their busiest month."
   ]
  },
  {
   "cell_type": "markdown",
   "id": "contrary-report",
   "metadata": {},
   "source": [
    "# Summary of time series findings"
   ]
  },
  {
   "cell_type": "markdown",
   "id": "affecting-steps",
   "metadata": {},
   "source": [
    "We found a few key things.\n",
    "\n",
    "Usage is higher on the weekend. We also found that usage tends to be higher in the wee hours of the night 11-3 sort of range, and that it tends to be higher and later on the weekends. Weekdays also have some spikes around lunch time 11-1. March was also clearly their buesiest month. More could be done, but this is a decent start"
   ]
  },
  {
   "cell_type": "code",
   "execution_count": null,
   "id": "competitive-washington",
   "metadata": {},
   "outputs": [],
   "source": []
  },
  {
   "cell_type": "markdown",
   "id": "removable-token",
   "metadata": {},
   "source": [
    "# Pre Processing"
   ]
  },
  {
   "cell_type": "markdown",
   "id": "polyphonic-thumb",
   "metadata": {},
   "source": [
    "# Predictive Modeling"
   ]
  },
  {
   "cell_type": "markdown",
   "id": "textile-handle",
   "metadata": {},
   "source": [
    "1. Perform any cleaning, exploratory analysis, and/or visualizations to use the provided\n",
    "data for this analysis (a few sentences/plots describing your approach will suffice). What\n",
    "fraction of the observed users were retained?\n",
    "2. Build a predictive model to help Ultimate determine whether or not a user will be active in\n",
    "their 6th month on the system. Discuss why you chose your approach, what alternatives\n",
    "you considered, and any concerns you have. How valid is your model? Include any key\n",
    "indicators of model performance.\n",
    "3. Briefly discuss how Ultimate might leverage the insights gained from the model to\n",
    "improve its long term rider retention (again, a few sentences will suffice)."
   ]
  },
  {
   "cell_type": "code",
   "execution_count": null,
   "id": "raising-suffering",
   "metadata": {},
   "outputs": [],
   "source": []
  }
 ],
 "metadata": {
  "kernelspec": {
   "display_name": "Python 3",
   "language": "python",
   "name": "python3"
  },
  "language_info": {
   "codemirror_mode": {
    "name": "ipython",
    "version": 3
   },
   "file_extension": ".py",
   "mimetype": "text/x-python",
   "name": "python",
   "nbconvert_exporter": "python",
   "pygments_lexer": "ipython3",
   "version": "3.9.1"
  }
 },
 "nbformat": 4,
 "nbformat_minor": 5
}
