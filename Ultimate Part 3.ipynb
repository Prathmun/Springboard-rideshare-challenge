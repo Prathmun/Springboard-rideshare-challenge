{
 "cells": [
  {
   "cell_type": "markdown",
   "id": "unexpected-hebrew",
   "metadata": {},
   "source": [
    "# Set Up"
   ]
  },
  {
   "cell_type": "code",
   "execution_count": 85,
   "id": "respective-employment",
   "metadata": {},
   "outputs": [],
   "source": [
    "import pandas as pd\n",
    "from time import time\n",
    "import datetime\n",
    "import matplotlib.pyplot as plt"
   ]
  },
  {
   "cell_type": "markdown",
   "id": "atomic-advance",
   "metadata": {},
   "source": [
    "## Sklearn stufff"
   ]
  },
  {
   "cell_type": "markdown",
   "id": "veterinary-roberts",
   "metadata": {},
   "source": [
    "### Pre Processing"
   ]
  },
  {
   "cell_type": "code",
   "execution_count": 2,
   "id": "optional-drunk",
   "metadata": {},
   "outputs": [],
   "source": [
    "from sklearn.preprocessing import StandardScaler\n",
    "from sklearn.model_selection import train_test_split"
   ]
  },
  {
   "cell_type": "markdown",
   "id": "south-palmer",
   "metadata": {},
   "source": [
    "### modeling"
   ]
  },
  {
   "cell_type": "code",
   "execution_count": 58,
   "id": "collectible-oriental",
   "metadata": {},
   "outputs": [],
   "source": [
    "from sklearn.dummy import DummyClassifier\n",
    "from sklearn.model_selection import GridSearchCV\n",
    "from sklearn.ensemble import RandomForestClassifier"
   ]
  },
  {
   "cell_type": "markdown",
   "id": "controlling-concern",
   "metadata": {},
   "source": [
    "# EDA"
   ]
  },
  {
   "cell_type": "markdown",
   "id": "premium-terrorism",
   "metadata": {},
   "source": [
    "1. Perform any cleaning, exploratory analysis, and/or visualizations to use the provided\n",
    "data for this analysis (a few sentences/plots describing your approach will suffice). What\n",
    "fraction of the observed users were retained?\n"
   ]
  },
  {
   "cell_type": "code",
   "execution_count": 4,
   "id": "outstanding-essence",
   "metadata": {},
   "outputs": [],
   "source": [
    "df = pd.read_json('ultimate_data_challenge.json')"
   ]
  },
  {
   "cell_type": "code",
   "execution_count": 5,
   "id": "bulgarian-earth",
   "metadata": {},
   "outputs": [
    {
     "data": {
      "text/plain": [
       "(50000, 12)"
      ]
     },
     "execution_count": 5,
     "metadata": {},
     "output_type": "execute_result"
    }
   ],
   "source": [
    "df.shape"
   ]
  },
  {
   "cell_type": "code",
   "execution_count": 6,
   "id": "unnecessary-supplier",
   "metadata": {},
   "outputs": [
    {
     "data": {
      "text/html": [
       "<div>\n",
       "<style scoped>\n",
       "    .dataframe tbody tr th:only-of-type {\n",
       "        vertical-align: middle;\n",
       "    }\n",
       "\n",
       "    .dataframe tbody tr th {\n",
       "        vertical-align: top;\n",
       "    }\n",
       "\n",
       "    .dataframe thead th {\n",
       "        text-align: right;\n",
       "    }\n",
       "</style>\n",
       "<table border=\"1\" class=\"dataframe\">\n",
       "  <thead>\n",
       "    <tr style=\"text-align: right;\">\n",
       "      <th></th>\n",
       "      <th>city</th>\n",
       "      <th>trips_in_first_30_days</th>\n",
       "      <th>signup_date</th>\n",
       "      <th>avg_rating_of_driver</th>\n",
       "      <th>avg_surge</th>\n",
       "      <th>last_trip_date</th>\n",
       "      <th>phone</th>\n",
       "      <th>surge_pct</th>\n",
       "      <th>ultimate_black_user</th>\n",
       "      <th>weekday_pct</th>\n",
       "      <th>avg_dist</th>\n",
       "      <th>avg_rating_by_driver</th>\n",
       "    </tr>\n",
       "  </thead>\n",
       "  <tbody>\n",
       "    <tr>\n",
       "      <th>0</th>\n",
       "      <td>King's Landing</td>\n",
       "      <td>4</td>\n",
       "      <td>2014-01-25</td>\n",
       "      <td>4.7</td>\n",
       "      <td>1.10</td>\n",
       "      <td>2014-06-17</td>\n",
       "      <td>iPhone</td>\n",
       "      <td>15.4</td>\n",
       "      <td>True</td>\n",
       "      <td>46.2</td>\n",
       "      <td>3.67</td>\n",
       "      <td>5.0</td>\n",
       "    </tr>\n",
       "    <tr>\n",
       "      <th>1</th>\n",
       "      <td>Astapor</td>\n",
       "      <td>0</td>\n",
       "      <td>2014-01-29</td>\n",
       "      <td>5.0</td>\n",
       "      <td>1.00</td>\n",
       "      <td>2014-05-05</td>\n",
       "      <td>Android</td>\n",
       "      <td>0.0</td>\n",
       "      <td>False</td>\n",
       "      <td>50.0</td>\n",
       "      <td>8.26</td>\n",
       "      <td>5.0</td>\n",
       "    </tr>\n",
       "    <tr>\n",
       "      <th>2</th>\n",
       "      <td>Astapor</td>\n",
       "      <td>3</td>\n",
       "      <td>2014-01-06</td>\n",
       "      <td>4.3</td>\n",
       "      <td>1.00</td>\n",
       "      <td>2014-01-07</td>\n",
       "      <td>iPhone</td>\n",
       "      <td>0.0</td>\n",
       "      <td>False</td>\n",
       "      <td>100.0</td>\n",
       "      <td>0.77</td>\n",
       "      <td>5.0</td>\n",
       "    </tr>\n",
       "    <tr>\n",
       "      <th>3</th>\n",
       "      <td>King's Landing</td>\n",
       "      <td>9</td>\n",
       "      <td>2014-01-10</td>\n",
       "      <td>4.6</td>\n",
       "      <td>1.14</td>\n",
       "      <td>2014-06-29</td>\n",
       "      <td>iPhone</td>\n",
       "      <td>20.0</td>\n",
       "      <td>True</td>\n",
       "      <td>80.0</td>\n",
       "      <td>2.36</td>\n",
       "      <td>4.9</td>\n",
       "    </tr>\n",
       "    <tr>\n",
       "      <th>4</th>\n",
       "      <td>Winterfell</td>\n",
       "      <td>14</td>\n",
       "      <td>2014-01-27</td>\n",
       "      <td>4.4</td>\n",
       "      <td>1.19</td>\n",
       "      <td>2014-03-15</td>\n",
       "      <td>Android</td>\n",
       "      <td>11.8</td>\n",
       "      <td>False</td>\n",
       "      <td>82.4</td>\n",
       "      <td>3.13</td>\n",
       "      <td>4.9</td>\n",
       "    </tr>\n",
       "  </tbody>\n",
       "</table>\n",
       "</div>"
      ],
      "text/plain": [
       "             city  trips_in_first_30_days signup_date  avg_rating_of_driver  \\\n",
       "0  King's Landing                       4  2014-01-25                   4.7   \n",
       "1         Astapor                       0  2014-01-29                   5.0   \n",
       "2         Astapor                       3  2014-01-06                   4.3   \n",
       "3  King's Landing                       9  2014-01-10                   4.6   \n",
       "4      Winterfell                      14  2014-01-27                   4.4   \n",
       "\n",
       "   avg_surge last_trip_date    phone  surge_pct  ultimate_black_user  \\\n",
       "0       1.10     2014-06-17   iPhone       15.4                 True   \n",
       "1       1.00     2014-05-05  Android        0.0                False   \n",
       "2       1.00     2014-01-07   iPhone        0.0                False   \n",
       "3       1.14     2014-06-29   iPhone       20.0                 True   \n",
       "4       1.19     2014-03-15  Android       11.8                False   \n",
       "\n",
       "   weekday_pct  avg_dist  avg_rating_by_driver  \n",
       "0         46.2      3.67                   5.0  \n",
       "1         50.0      8.26                   5.0  \n",
       "2        100.0      0.77                   5.0  \n",
       "3         80.0      2.36                   4.9  \n",
       "4         82.4      3.13                   4.9  "
      ]
     },
     "execution_count": 6,
     "metadata": {},
     "output_type": "execute_result"
    }
   ],
   "source": [
    "df.head(5)"
   ]
  },
  {
   "cell_type": "code",
   "execution_count": 7,
   "id": "armed-drinking",
   "metadata": {},
   "outputs": [
    {
     "data": {
      "text/plain": [
       "array([\"King's Landing\", 'Astapor', 'Winterfell'], dtype=object)"
      ]
     },
     "execution_count": 7,
     "metadata": {},
     "output_type": "execute_result"
    }
   ],
   "source": [
    "df.city.unique()"
   ]
  },
  {
   "cell_type": "code",
   "execution_count": 8,
   "id": "local-incentive",
   "metadata": {},
   "outputs": [
    {
     "name": "stdout",
     "output_type": "stream",
     "text": [
      "<class 'pandas.core.frame.DataFrame'>\n",
      "RangeIndex: 50000 entries, 0 to 49999\n",
      "Data columns (total 12 columns):\n",
      " #   Column                  Non-Null Count  Dtype  \n",
      "---  ------                  --------------  -----  \n",
      " 0   city                    50000 non-null  object \n",
      " 1   trips_in_first_30_days  50000 non-null  int64  \n",
      " 2   signup_date             50000 non-null  object \n",
      " 3   avg_rating_of_driver    41878 non-null  float64\n",
      " 4   avg_surge               50000 non-null  float64\n",
      " 5   last_trip_date          50000 non-null  object \n",
      " 6   phone                   49604 non-null  object \n",
      " 7   surge_pct               50000 non-null  float64\n",
      " 8   ultimate_black_user     50000 non-null  bool   \n",
      " 9   weekday_pct             50000 non-null  float64\n",
      " 10  avg_dist                50000 non-null  float64\n",
      " 11  avg_rating_by_driver    49799 non-null  float64\n",
      "dtypes: bool(1), float64(6), int64(1), object(4)\n",
      "memory usage: 4.2+ MB\n"
     ]
    }
   ],
   "source": [
    "df.info()"
   ]
  },
  {
   "cell_type": "code",
   "execution_count": 9,
   "id": "behavioral-parking",
   "metadata": {},
   "outputs": [
    {
     "data": {
      "text/html": [
       "<div>\n",
       "<style scoped>\n",
       "    .dataframe tbody tr th:only-of-type {\n",
       "        vertical-align: middle;\n",
       "    }\n",
       "\n",
       "    .dataframe tbody tr th {\n",
       "        vertical-align: top;\n",
       "    }\n",
       "\n",
       "    .dataframe thead th {\n",
       "        text-align: right;\n",
       "    }\n",
       "</style>\n",
       "<table border=\"1\" class=\"dataframe\">\n",
       "  <thead>\n",
       "    <tr style=\"text-align: right;\">\n",
       "      <th></th>\n",
       "      <th>trips_in_first_30_days</th>\n",
       "      <th>avg_rating_of_driver</th>\n",
       "      <th>avg_surge</th>\n",
       "      <th>surge_pct</th>\n",
       "      <th>weekday_pct</th>\n",
       "      <th>avg_dist</th>\n",
       "      <th>avg_rating_by_driver</th>\n",
       "    </tr>\n",
       "  </thead>\n",
       "  <tbody>\n",
       "    <tr>\n",
       "      <th>count</th>\n",
       "      <td>50000.000000</td>\n",
       "      <td>41878.000000</td>\n",
       "      <td>50000.000000</td>\n",
       "      <td>50000.000000</td>\n",
       "      <td>50000.000000</td>\n",
       "      <td>50000.000000</td>\n",
       "      <td>49799.000000</td>\n",
       "    </tr>\n",
       "    <tr>\n",
       "      <th>mean</th>\n",
       "      <td>2.278200</td>\n",
       "      <td>4.601559</td>\n",
       "      <td>1.074764</td>\n",
       "      <td>8.849536</td>\n",
       "      <td>60.926084</td>\n",
       "      <td>5.796827</td>\n",
       "      <td>4.778158</td>\n",
       "    </tr>\n",
       "    <tr>\n",
       "      <th>std</th>\n",
       "      <td>3.792684</td>\n",
       "      <td>0.617338</td>\n",
       "      <td>0.222336</td>\n",
       "      <td>19.958811</td>\n",
       "      <td>37.081503</td>\n",
       "      <td>5.707357</td>\n",
       "      <td>0.446652</td>\n",
       "    </tr>\n",
       "    <tr>\n",
       "      <th>min</th>\n",
       "      <td>0.000000</td>\n",
       "      <td>1.000000</td>\n",
       "      <td>1.000000</td>\n",
       "      <td>0.000000</td>\n",
       "      <td>0.000000</td>\n",
       "      <td>0.000000</td>\n",
       "      <td>1.000000</td>\n",
       "    </tr>\n",
       "    <tr>\n",
       "      <th>25%</th>\n",
       "      <td>0.000000</td>\n",
       "      <td>4.300000</td>\n",
       "      <td>1.000000</td>\n",
       "      <td>0.000000</td>\n",
       "      <td>33.300000</td>\n",
       "      <td>2.420000</td>\n",
       "      <td>4.700000</td>\n",
       "    </tr>\n",
       "    <tr>\n",
       "      <th>50%</th>\n",
       "      <td>1.000000</td>\n",
       "      <td>4.900000</td>\n",
       "      <td>1.000000</td>\n",
       "      <td>0.000000</td>\n",
       "      <td>66.700000</td>\n",
       "      <td>3.880000</td>\n",
       "      <td>5.000000</td>\n",
       "    </tr>\n",
       "    <tr>\n",
       "      <th>75%</th>\n",
       "      <td>3.000000</td>\n",
       "      <td>5.000000</td>\n",
       "      <td>1.050000</td>\n",
       "      <td>8.600000</td>\n",
       "      <td>100.000000</td>\n",
       "      <td>6.940000</td>\n",
       "      <td>5.000000</td>\n",
       "    </tr>\n",
       "    <tr>\n",
       "      <th>max</th>\n",
       "      <td>125.000000</td>\n",
       "      <td>5.000000</td>\n",
       "      <td>8.000000</td>\n",
       "      <td>100.000000</td>\n",
       "      <td>100.000000</td>\n",
       "      <td>160.960000</td>\n",
       "      <td>5.000000</td>\n",
       "    </tr>\n",
       "  </tbody>\n",
       "</table>\n",
       "</div>"
      ],
      "text/plain": [
       "       trips_in_first_30_days  avg_rating_of_driver     avg_surge  \\\n",
       "count            50000.000000          41878.000000  50000.000000   \n",
       "mean                 2.278200              4.601559      1.074764   \n",
       "std                  3.792684              0.617338      0.222336   \n",
       "min                  0.000000              1.000000      1.000000   \n",
       "25%                  0.000000              4.300000      1.000000   \n",
       "50%                  1.000000              4.900000      1.000000   \n",
       "75%                  3.000000              5.000000      1.050000   \n",
       "max                125.000000              5.000000      8.000000   \n",
       "\n",
       "          surge_pct   weekday_pct      avg_dist  avg_rating_by_driver  \n",
       "count  50000.000000  50000.000000  50000.000000          49799.000000  \n",
       "mean       8.849536     60.926084      5.796827              4.778158  \n",
       "std       19.958811     37.081503      5.707357              0.446652  \n",
       "min        0.000000      0.000000      0.000000              1.000000  \n",
       "25%        0.000000     33.300000      2.420000              4.700000  \n",
       "50%        0.000000     66.700000      3.880000              5.000000  \n",
       "75%        8.600000    100.000000      6.940000              5.000000  \n",
       "max      100.000000    100.000000    160.960000              5.000000  "
      ]
     },
     "execution_count": 9,
     "metadata": {},
     "output_type": "execute_result"
    }
   ],
   "source": [
    "df.describe()"
   ]
  },
  {
   "cell_type": "code",
   "execution_count": 10,
   "id": "burning-distinction",
   "metadata": {},
   "outputs": [
    {
     "name": "stderr",
     "output_type": "stream",
     "text": [
      "<ipython-input-10-662721f71870>:2: UserWarning: Pandas doesn't allow columns to be created via a new attribute name - see https://pandas.pydata.org/pandas-docs/stable/indexing.html#attribute-access\n",
      "  df.sign_up_date = pd.to_datetime(df.signup_date)\n"
     ]
    }
   ],
   "source": [
    "#To datetime\n",
    "df.sign_up_date = pd.to_datetime(df.signup_date)\n",
    "df.last_trip_date = pd.to_datetime(df.last_trip_date)"
   ]
  },
  {
   "cell_type": "markdown",
   "id": "miniature-defense",
   "metadata": {},
   "source": [
    "1. Perform any cleaning, exploratory analysis, and/or visualizations to use the provided\n",
    "data for this analysis (a few sentences/plots describing your approach will suffice). What\n",
    "fraction of the observed users were retained?\n"
   ]
  },
  {
   "cell_type": "markdown",
   "id": "adjacent-processor",
   "metadata": {},
   "source": [
    "# Feature Engineering"
   ]
  },
  {
   "cell_type": "code",
   "execution_count": 11,
   "id": "prescription-criticism",
   "metadata": {},
   "outputs": [
    {
     "data": {
      "text/plain": [
       "Index(['city', 'trips_in_first_30_days', 'signup_date', 'avg_rating_of_driver',\n",
       "       'avg_surge', 'last_trip_date', 'phone', 'surge_pct',\n",
       "       'ultimate_black_user', 'weekday_pct', 'avg_dist',\n",
       "       'avg_rating_by_driver'],\n",
       "      dtype='object')"
      ]
     },
     "execution_count": 11,
     "metadata": {},
     "output_type": "execute_result"
    }
   ],
   "source": [
    "df.columns"
   ]
  },
  {
   "cell_type": "markdown",
   "id": "powered-diploma",
   "metadata": {},
   "source": [
    "Account Age"
   ]
  },
  {
   "cell_type": "code",
   "execution_count": 12,
   "id": "complimentary-quarterly",
   "metadata": {},
   "outputs": [],
   "source": [
    "# add target variable \n",
    "# make column to represent whether or not a user has been active in the last 30 days (from June 1 to July 1) since the data was pulled\n",
    "\n",
    "\n",
    "latest_date = df['last_trip_date'].max()\n",
    "\n",
    "df['active'] = df['last_trip_date'].apply(lambda x: 1 if ((latest_date - x)< datetime.timedelta(days=31))  else 0)\n"
   ]
  },
  {
   "cell_type": "markdown",
   "id": "fourth-impossible",
   "metadata": {},
   "source": [
    "## Imputation"
   ]
  },
  {
   "cell_type": "code",
   "execution_count": 13,
   "id": "flexible-steel",
   "metadata": {},
   "outputs": [
    {
     "data": {
      "text/plain": [
       "8122"
      ]
     },
     "execution_count": 13,
     "metadata": {},
     "output_type": "execute_result"
    }
   ],
   "source": [
    "df.avg_rating_of_driver.isnull().sum()"
   ]
  },
  {
   "cell_type": "code",
   "execution_count": 14,
   "id": "fifteen-anthony",
   "metadata": {
    "scrolled": true
   },
   "outputs": [
    {
     "data": {
      "text/plain": [
       "count    41878.000000\n",
       "mean         4.601559\n",
       "std          0.617338\n",
       "min          1.000000\n",
       "25%          4.300000\n",
       "50%          4.900000\n",
       "75%          5.000000\n",
       "max          5.000000\n",
       "Name: avg_rating_of_driver, dtype: float64"
      ]
     },
     "execution_count": 14,
     "metadata": {},
     "output_type": "execute_result"
    }
   ],
   "source": [
    "df.avg_rating_of_driver.describe()"
   ]
  },
  {
   "cell_type": "code",
   "execution_count": 15,
   "id": "known-conviction",
   "metadata": {
    "scrolled": true
   },
   "outputs": [
    {
     "data": {
      "text/plain": [
       "5.0    20771\n",
       "4.0     4193\n",
       "4.5     2498\n",
       "4.8     2430\n",
       "4.7     1945\n",
       "4.9     1771\n",
       "4.3     1487\n",
       "4.6     1143\n",
       "3.0     1003\n",
       "4.4      829\n",
       "4.2      601\n",
       "3.5      488\n",
       "3.8      428\n",
       "4.1      398\n",
       "3.7      364\n",
       "1.0      256\n",
       "3.9      255\n",
       "2.0      209\n",
       "3.3      201\n",
       "3.6      172\n",
       "3.4      108\n",
       "2.5       94\n",
       "3.2       53\n",
       "2.7       47\n",
       "3.1       39\n",
       "2.8       28\n",
       "2.3       22\n",
       "2.9       13\n",
       "2.6       12\n",
       "2.1        6\n",
       "1.5        4\n",
       "2.4        3\n",
       "1.8        2\n",
       "1.7        2\n",
       "2.2        1\n",
       "1.9        1\n",
       "1.6        1\n",
       "Name: avg_rating_of_driver, dtype: int64"
      ]
     },
     "execution_count": 15,
     "metadata": {},
     "output_type": "execute_result"
    }
   ],
   "source": [
    "df.avg_rating_of_driver.value_counts()"
   ]
  },
  {
   "cell_type": "markdown",
   "id": "african-hunter",
   "metadata": {},
   "source": [
    "We've got mostly 5.0 values, with a slightly lower mean. I don't want to just use the mean, so I'm gonna impute with the most recent value, shouldn't skew our data too much"
   ]
  },
  {
   "cell_type": "code",
   "execution_count": 16,
   "id": "generous-salmon",
   "metadata": {},
   "outputs": [],
   "source": [
    "df.avg_rating_of_driver.fillna(method='ffill', inplace=True)"
   ]
  },
  {
   "cell_type": "markdown",
   "id": "comic-atlas",
   "metadata": {},
   "source": [
    "We have such a small number of nulls for rating by driver, I'm gonna go ahead and just drop those."
   ]
  },
  {
   "cell_type": "code",
   "execution_count": 17,
   "id": "south-analyst",
   "metadata": {},
   "outputs": [
    {
     "data": {
      "text/plain": [
       "201"
      ]
     },
     "execution_count": 17,
     "metadata": {},
     "output_type": "execute_result"
    }
   ],
   "source": [
    "df.avg_rating_by_driver.isnull().sum()"
   ]
  },
  {
   "cell_type": "code",
   "execution_count": 18,
   "id": "awful-astronomy",
   "metadata": {},
   "outputs": [],
   "source": [
    "df.dropna(inplace=True, axis='rows')"
   ]
  },
  {
   "cell_type": "markdown",
   "id": "radio-tuner",
   "metadata": {},
   "source": [
    "# Pre Processing"
   ]
  },
  {
   "cell_type": "markdown",
   "id": "vocal-values",
   "metadata": {},
   "source": [
    "## correct datatypes"
   ]
  },
  {
   "cell_type": "code",
   "execution_count": 19,
   "id": "assumed-smith",
   "metadata": {
    "scrolled": true
   },
   "outputs": [
    {
     "name": "stdout",
     "output_type": "stream",
     "text": [
      "<class 'pandas.core.frame.DataFrame'>\n",
      "Int64Index: 49406 entries, 0 to 49999\n",
      "Data columns (total 13 columns):\n",
      " #   Column                  Non-Null Count  Dtype         \n",
      "---  ------                  --------------  -----         \n",
      " 0   city                    49406 non-null  object        \n",
      " 1   trips_in_first_30_days  49406 non-null  int64         \n",
      " 2   signup_date             49406 non-null  object        \n",
      " 3   avg_rating_of_driver    49406 non-null  float64       \n",
      " 4   avg_surge               49406 non-null  float64       \n",
      " 5   last_trip_date          49406 non-null  datetime64[ns]\n",
      " 6   phone                   49406 non-null  object        \n",
      " 7   surge_pct               49406 non-null  float64       \n",
      " 8   ultimate_black_user     49406 non-null  bool          \n",
      " 9   weekday_pct             49406 non-null  float64       \n",
      " 10  avg_dist                49406 non-null  float64       \n",
      " 11  avg_rating_by_driver    49406 non-null  float64       \n",
      " 12  active                  49406 non-null  int64         \n",
      "dtypes: bool(1), datetime64[ns](1), float64(6), int64(2), object(3)\n",
      "memory usage: 4.9+ MB\n"
     ]
    }
   ],
   "source": [
    "df.info()"
   ]
  },
  {
   "cell_type": "code",
   "execution_count": 20,
   "id": "resistant-variance",
   "metadata": {},
   "outputs": [],
   "source": [
    "#This gets messed with in later steps and doesn't require any additional processing, so we're going just pull it out right away\n",
    "y = df.active"
   ]
  },
  {
   "cell_type": "code",
   "execution_count": 21,
   "id": "impaired-dress",
   "metadata": {},
   "outputs": [],
   "source": [
    "# Phone numbers are more or less a unique user id, and everyone is already in their own row.\n",
    "#I don't think we care when last_trip_date is either. It was just useful for setting up our target variable\n",
    "df.drop(columns=['phone','last_trip_date', 'active'], inplace=True)"
   ]
  },
  {
   "cell_type": "markdown",
   "id": "atmospheric-shoulder",
   "metadata": {},
   "source": [
    "## Dummy_encode"
   ]
  },
  {
   "cell_type": "code",
   "execution_count": 22,
   "id": "criminal-running",
   "metadata": {},
   "outputs": [],
   "source": [
    "#Get our list of columns to encode\n",
    "dummy_columns = ['city', 'signup_date','ultimate_black_user',]"
   ]
  },
  {
   "cell_type": "code",
   "execution_count": 23,
   "id": "casual-circumstances",
   "metadata": {},
   "outputs": [],
   "source": [
    "#yank out our columns\n",
    "df_to_dummy = df[dummy_columns]"
   ]
  },
  {
   "cell_type": "code",
   "execution_count": 24,
   "id": "copyrighted-event",
   "metadata": {},
   "outputs": [
    {
     "data": {
      "text/plain": [
       "(49406, 3)"
      ]
     },
     "execution_count": 24,
     "metadata": {},
     "output_type": "execute_result"
    }
   ],
   "source": [
    "df_to_dummy.shape"
   ]
  },
  {
   "cell_type": "code",
   "execution_count": 25,
   "id": "failing-polish",
   "metadata": {},
   "outputs": [],
   "source": [
    "#turn them into dummies\n",
    "dummy_df = pd.get_dummies(df_to_dummy)"
   ]
  },
  {
   "cell_type": "code",
   "execution_count": 26,
   "id": "younger-criterion",
   "metadata": {},
   "outputs": [
    {
     "data": {
      "text/plain": [
       "(49406, 35)"
      ]
     },
     "execution_count": 26,
     "metadata": {},
     "output_type": "execute_result"
    }
   ],
   "source": [
    "dummy_df.shape"
   ]
  },
  {
   "cell_type": "markdown",
   "id": "psychological-russell",
   "metadata": {},
   "source": [
    "## normalize/scale"
   ]
  },
  {
   "cell_type": "code",
   "execution_count": 27,
   "id": "soviet-newsletter",
   "metadata": {},
   "outputs": [],
   "source": [
    "#Get rid of dummied columns so they don't get transformed\n",
    "df_to_normalize = df.drop(columns=dummy_columns)"
   ]
  },
  {
   "cell_type": "code",
   "execution_count": 28,
   "id": "premium-scott",
   "metadata": {},
   "outputs": [],
   "source": [
    "#instantiate the Scaler\n",
    "scaler = StandardScaler()"
   ]
  },
  {
   "cell_type": "code",
   "execution_count": 29,
   "id": "imperial-guitar",
   "metadata": {},
   "outputs": [],
   "source": [
    "#Scale the stuff!\n",
    "normalize_array = scaler.fit_transform(df_to_normalize)"
   ]
  },
  {
   "cell_type": "code",
   "execution_count": 30,
   "id": "equipped-american",
   "metadata": {},
   "outputs": [],
   "source": [
    "#Transform the array back into a dataframe with column names for easy manipulation\n",
    "normalized_df = pd.DataFrame(normalize_array, columns = df_to_normalize.columns)"
   ]
  },
  {
   "cell_type": "code",
   "execution_count": 31,
   "id": "senior-police",
   "metadata": {},
   "outputs": [
    {
     "data": {
      "text/plain": [
       "(49406, 7)"
      ]
     },
     "execution_count": 31,
     "metadata": {},
     "output_type": "execute_result"
    }
   ],
   "source": [
    "normalized_df.shape"
   ]
  },
  {
   "cell_type": "markdown",
   "id": "accurate-death",
   "metadata": {},
   "source": [
    "## Rejoin normalize/dummied code"
   ]
  },
  {
   "cell_type": "code",
   "execution_count": 32,
   "id": "empirical-completion",
   "metadata": {},
   "outputs": [],
   "source": [
    "processed_df = normalized_df.join(dummy_df, on=df.index)"
   ]
  },
  {
   "cell_type": "markdown",
   "id": "careful-burner",
   "metadata": {},
   "source": [
    "## train test split"
   ]
  },
  {
   "cell_type": "code",
   "execution_count": 35,
   "id": "planned-police",
   "metadata": {},
   "outputs": [],
   "source": [
    "X = processed_df\n",
    "#This is done earlier in the notebook, but I at least want to note it here\n",
    "#y = processed_df.active"
   ]
  },
  {
   "cell_type": "code",
   "execution_count": 36,
   "id": "powered-trash",
   "metadata": {},
   "outputs": [],
   "source": [
    "X_train, X_test, y_train, y_test = train_test_split(X, y, test_size=0.33)"
   ]
  },
  {
   "cell_type": "markdown",
   "id": "collectible-sailing",
   "metadata": {},
   "source": [
    "# Modeling"
   ]
  },
  {
   "cell_type": "code",
   "execution_count": 37,
   "id": "fuzzy-departure",
   "metadata": {},
   "outputs": [],
   "source": [
    "#params for gridseach to explore\n",
    "param_grid = {'n_estimators' : [10, 50, 100], 'max_depth' : [1,2,3]}"
   ]
  },
  {
   "cell_type": "code",
   "execution_count": 38,
   "id": "visible-determination",
   "metadata": {},
   "outputs": [],
   "source": [
    "#Instantiate the modeling agent\n",
    "tree_friend = RandomForestClassifier()"
   ]
  },
  {
   "cell_type": "code",
   "execution_count": 39,
   "id": "activated-professor",
   "metadata": {},
   "outputs": [],
   "source": [
    "#Instantiate the gridsearch cross validator agent\n",
    "clf = GridSearchCV(tree_friend, param_grid)"
   ]
  },
  {
   "cell_type": "code",
   "execution_count": 40,
   "id": "personalized-cornell",
   "metadata": {},
   "outputs": [
    {
     "data": {
      "text/plain": [
       "GridSearchCV(estimator=RandomForestClassifier(),\n",
       "             param_grid={'max_depth': [1, 2, 3], 'n_estimators': [10, 50, 100]})"
      ]
     },
     "execution_count": 40,
     "metadata": {},
     "output_type": "execute_result"
    }
   ],
   "source": [
    "clf.fit(X_train, y_train)"
   ]
  },
  {
   "cell_type": "code",
   "execution_count": 49,
   "id": "maritime-courage",
   "metadata": {},
   "outputs": [
    {
     "data": {
      "text/plain": [
       "masked_array(data=[1, 1, 1, 2, 2, 2, 3, 3, 3],\n",
       "             mask=[False, False, False, False, False, False, False, False,\n",
       "                   False],\n",
       "       fill_value='?',\n",
       "            dtype=object)"
      ]
     },
     "execution_count": 49,
     "metadata": {},
     "output_type": "execute_result"
    }
   ],
   "source": [
    "clf.cv_results_['param_max_depth']"
   ]
  },
  {
   "cell_type": "code",
   "execution_count": 50,
   "id": "collectible-logan",
   "metadata": {},
   "outputs": [
    {
     "data": {
      "text/plain": [
       "{'max_depth': 3, 'n_estimators': 100}"
      ]
     },
     "execution_count": 50,
     "metadata": {},
     "output_type": "execute_result"
    }
   ],
   "source": [
    "#Check out what parametersit liked best.\n",
    "clf.best_params_"
   ]
  },
  {
   "cell_type": "code",
   "execution_count": 60,
   "id": "jewish-infection",
   "metadata": {},
   "outputs": [
    {
     "data": {
      "text/plain": [
       "0.5306059862610403"
      ]
     },
     "execution_count": 60,
     "metadata": {},
     "output_type": "execute_result"
    }
   ],
   "source": [
    "#Before we check in on the score for our actual model, let's see how a stratified dummy classfier does. This can fil in for our\n",
    "# random choice, or guessing model.\n",
    "dumbotron = DummyClassifier(strategy='stratified')\n",
    "dumbotron.fit(X_train, y_train)\n",
    "dumbotron.score(X_test, y_test)"
   ]
  },
  {
   "cell_type": "code",
   "execution_count": 61,
   "id": "positive-proof",
   "metadata": {},
   "outputs": [
    {
     "data": {
      "text/plain": [
       "0.730679587831207"
      ]
     },
     "execution_count": 61,
     "metadata": {},
     "output_type": "execute_result"
    }
   ],
   "source": [
    "#Not the most accurate model, but it's almost certainely way better than our dummy classfier\n",
    "clf.score(X_test, y_test)"
   ]
  },
  {
   "cell_type": "code",
   "execution_count": 96,
   "id": "acute-comment",
   "metadata": {
    "scrolled": false
   },
   "outputs": [
    {
     "data": {
      "image/png": "[encoded data removed]",
      "text/plain": [
       "<Figure size 432x288 with 1 Axes>"
      ]
     },
     "metadata": {
      "needs_background": "light"
     },
     "output_type": "display_data"
    },
    {
     "data": {
      "text/plain": [
       "<Figure size 1440x720 with 0 Axes>"
      ]
     },
     "metadata": {},
     "output_type": "display_data"
    }
   ],
   "source": [
    "feats = {} # a dict to hold feature_name: feature_importance\n",
    "for feature, importance in zip(X.columns, clf.best_estimator_.feature_importances_):\n",
    "    feats[feature] = importance #add the name/value pair \n",
    "\n",
    "importances = pd.DataFrame.from_dict(feats, orient='index').rename(columns={0: 'Importance'})\n",
    "\n",
    "importances.head(11).sort_values(by='Importance').plot(kind='bar', rot=45, )\n",
    "\n",
    "\n",
    "#The sign up date features are dropped in the above code, as there's 31 of them and as a whole they add up to less than one \n",
    "#percent of the total feature value"
   ]
  },
  {
   "cell_type": "markdown",
   "id": "hungry-planning",
   "metadata": {},
   "source": [
    "2. Build a predictive model to help Ultimate determine whether or not a user will be active in\n",
    "their 6th month on the system. Discuss why you chose your approach, what alternatives\n",
    "you considered, and any concerns you have. How valid is your model? Include any key\n",
    "indicators of model performance.\n"
   ]
  },
  {
   "cell_type": "markdown",
   "id": "handmade-companion",
   "metadata": {},
   "source": [
    "Accuracy/confusion matrix"
   ]
  },
  {
   "cell_type": "markdown",
   "id": "meaningful-consequence",
   "metadata": {},
   "source": [
    "# Conclusion"
   ]
  },
  {
   "cell_type": "markdown",
   "id": "heard-intranet",
   "metadata": {},
   "source": [
    "The rating by the driver is the most important feature, so it suggests that some kind driver empowerment angle could be useful. The relatinoship between drivers and riders is clearly very important. The second most important feature is the amount of surge pricing they've participated in. The less price sensitive customers are those who tend to stick around longer, in addition to that the fourth most important feature is the percentage of activity that takes place during the week. Both of these features combined suggest to me that habit formation is a key part of long term adoption. This suggests to me that the on-ramp could be made longer, smoother and gentler.\n",
    "\n",
    "The kings landing one is a lot less clear to me. I don't know anything about the city, I would definitely suggest further investigation of the traits of the city and see if we can't find what traits are correlating with higher rider retention. Another lign of investigation to do.\n",
    "\n",
    "Lots more that could be done, but here we have a moderately accurate model that opens up several further avenues of investigation and even as it stands suggests some activity pathways.\n",
    "\n"
   ]
  }
 ],
 "metadata": {
  "kernelspec": {
   "display_name": "Python 3",
   "language": "python",
   "name": "python3"
  },
  "language_info": {
   "codemirror_mode": {
    "name": "ipython",
    "version": 3
   },
   "file_extension": ".py",
   "mimetype": "text/x-python",
   "name": "python",
   "nbconvert_exporter": "python",
   "pygments_lexer": "ipython3",
   "version": "3.9.1"
  }
 },
 "nbformat": 4,
 "nbformat_minor": 5
}
